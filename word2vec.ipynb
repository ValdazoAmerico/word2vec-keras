{
  "nbformat": 4,
  "nbformat_minor": 0,
  "metadata": {
    "colab": {
      "name": "word2vec.ipynb",
      "provenance": [],
      "collapsed_sections": [],
      "authorship_tag": "ABX9TyMsjlrmzvKvHOEp28WHtVBF",
      "include_colab_link": true
    },
    "kernelspec": {
      "name": "python3",
      "display_name": "Python 3"
    },
    "language_info": {
      "name": "python"
    }
  },
  "cells": [
    {
      "cell_type": "markdown",
      "metadata": {
        "id": "view-in-github",
        "colab_type": "text"
      },
      "source": [
        "<a href=\"https://colab.research.google.com/github/ValdazoAmerico/word2vec-keras/blob/main/word2vec.ipynb\" target=\"_parent\"><img src=\"https://colab.research.google.com/assets/colab-badge.svg\" alt=\"Open In Colab\"/></a>"
      ]
    },
    {
      "cell_type": "code",
      "metadata": {
        "id": "iYXKUr3_PFIs"
      },
      "source": [
        "# define tokenized senences as training data\n",
        "tokenized_sentences = [['Hello','This','is','python','training','by','Aman'],\n",
        "             ['Hello','This','is','Java','training','by','Aman'],\n",
        "             ['Hello','This','is','Data Science','training','by','Unfold','Data','Science'],\n",
        "             ['Hello','This','is','programming','training','']]"
      ],
      "execution_count": 1,
      "outputs": []
    },
    {
      "cell_type": "code",
      "metadata": {
        "id": "dQJng_BYPF8K"
      },
      "source": [
        "# training word2vec model\n",
        "from gensim.models import Word2Vec\n",
        "import warnings\n",
        "warnings.filterwarnings('ignore')\n",
        "mymodel = Word2Vec(tokenized_sentences, min_count=1)"
      ],
      "execution_count": 2,
      "outputs": []
    },
    {
      "cell_type": "code",
      "metadata": {
        "id": "ZjjbTri0PK65"
      },
      "source": [
        ""
      ],
      "execution_count": null,
      "outputs": []
    },
    {
      "cell_type": "code",
      "metadata": {
        "id": "Ffo_beBmOLcJ",
        "colab": {
          "base_uri": "https://localhost:8080/"
        },
        "outputId": "2d3ca940-4782-4324-9dda-fdcbef7452c3"
      },
      "source": [
        "# summarizing the loaded model\n",
        "print(mymodel)"
      ],
      "execution_count": 4,
      "outputs": [
        {
          "output_type": "stream",
          "text": [
            "Word2Vec(vocab=14, size=100, alpha=0.025)\n"
          ],
          "name": "stdout"
        }
      ]
    },
    {
      "cell_type": "code",
      "metadata": {
        "id": "vTvtxdirOLcK"
      },
      "source": [
        "# summarize vocabulary\n",
        "words = list(mymodel.wv.vocab)"
      ],
      "execution_count": 5,
      "outputs": []
    },
    {
      "cell_type": "code",
      "metadata": {
        "id": "kmAy2I2xOLcK",
        "colab": {
          "base_uri": "https://localhost:8080/"
        },
        "outputId": "c928d6ff-16aa-4fd9-807b-b65492a4c713"
      },
      "source": [
        "# summarize vocabulary\n",
        "print(words)"
      ],
      "execution_count": 6,
      "outputs": [
        {
          "output_type": "stream",
          "text": [
            "['Hello', 'This', 'is', 'python', 'training', 'by', 'Aman', 'Java', 'Data Science', 'Unfold', 'Data', 'Science', 'programming', '']\n"
          ],
          "name": "stdout"
        }
      ]
    },
    {
      "cell_type": "code",
      "metadata": {
        "id": "5841TIcGPOrw"
      },
      "source": [
        ""
      ],
      "execution_count": 3,
      "outputs": []
    },
    {
      "cell_type": "code",
      "metadata": {
        "id": "6HXa4OIJOLcK",
        "colab": {
          "base_uri": "https://localhost:8080/"
        },
        "outputId": "cda2674c-2ea5-407a-8682-1776a6bef63c"
      },
      "source": [
        "# access word vector for one word \"training\"\n",
        "print(mymodel['Hello'])"
      ],
      "execution_count": 7,
      "outputs": [
        {
          "output_type": "stream",
          "text": [
            "[-4.4044652e-03  4.9070278e-03 -2.7047102e-03  4.7178846e-03\n",
            "  1.3772162e-03  1.4945143e-03  4.4133505e-04 -4.2476133e-04\n",
            "  2.8311354e-03 -4.9011246e-03 -3.6036121e-03  4.9806824e-03\n",
            "  2.8197160e-03 -4.5372266e-03  4.1466020e-03  3.0684252e-03\n",
            "  3.3007860e-03  2.1379394e-03  4.4266558e-03 -1.8094338e-03\n",
            "  2.4746740e-03 -4.9665282e-03  4.5673354e-03  2.0000888e-03\n",
            "  1.4826180e-03  1.5776806e-03  2.9162476e-03 -3.8847307e-04\n",
            "  4.6997113e-04  1.0693220e-04 -2.0516613e-03  1.7415115e-03\n",
            "  3.6198201e-03  3.6840821e-03  2.6954962e-03 -2.9150436e-03\n",
            " -4.2709629e-03  9.1733702e-04 -4.4796169e-03 -4.7485554e-03\n",
            "  4.2468770e-03  9.1044011e-04  4.5716926e-03 -8.3382573e-04\n",
            "  2.1438312e-03  4.4055353e-03  2.8207737e-03 -4.6060574e-03\n",
            "  3.4557017e-03  3.1898140e-03  4.1027716e-04  2.1842020e-03\n",
            " -4.3838583e-03 -4.9232310e-03  1.6103372e-03  1.8358512e-03\n",
            " -1.1286444e-03  2.9872844e-03  4.8790406e-03 -3.1404421e-04\n",
            " -4.3104570e-03 -3.2315927e-03  7.2957882e-05  1.6539531e-03\n",
            " -1.4546411e-03  2.7494135e-03  1.6823797e-03 -2.8752684e-04\n",
            " -2.1247473e-03 -9.9433579e-05 -2.4438981e-04  1.7868149e-03\n",
            " -4.4117710e-03 -3.1328043e-03  9.4207557e-04 -1.1165511e-03\n",
            " -2.3558221e-03  2.3897491e-04 -3.7432166e-03 -4.0021070e-04\n",
            " -2.6128239e-03 -4.0207645e-03  4.2329188e-03 -4.8509119e-03\n",
            " -4.8003332e-03 -2.5808576e-03  5.7356776e-04 -1.7064010e-03\n",
            " -4.0651960e-03 -3.4515224e-03 -4.7488785e-03  1.7189037e-04\n",
            "  1.3725676e-03 -4.4908705e-03 -8.8460167e-04 -3.3893641e-03\n",
            "  1.3020786e-03  3.7791310e-03  8.6664938e-04 -1.9487392e-03]\n"
          ],
          "name": "stdout"
        }
      ]
    },
    {
      "cell_type": "code",
      "metadata": {
        "id": "3G2Lo1RNOLcL",
        "colab": {
          "base_uri": "https://localhost:8080/"
        },
        "outputId": "65917ca6-11a6-4c31-fb8a-2be6a099d181"
      },
      "source": [
        "#try finding most similar words for word \"Data\"\n",
        "mymodel.most_similar(\"Data Science\")"
      ],
      "execution_count": 10,
      "outputs": [
        {
          "output_type": "execute_result",
          "data": {
            "text/plain": [
              "[('programming', 0.21485498547554016),\n",
              " ('is', 0.05362511798739433),\n",
              " ('Data', 0.045679740607738495),\n",
              " ('This', 0.04408987611532211),\n",
              " ('by', 0.027149155735969543),\n",
              " ('Unfold', -0.001469602808356285),\n",
              " ('', -0.008109666407108307),\n",
              " ('Java', -0.021059472113847733),\n",
              " ('Hello', -0.037318285554647446),\n",
              " ('Aman', -0.03969716280698776)]"
            ]
          },
          "metadata": {
            "tags": []
          },
          "execution_count": 10
        }
      ]
    },
    {
      "cell_type": "markdown",
      "metadata": {
        "id": "ZyroeyNeTOJc"
      },
      "source": [
        "# Word2vec and Keras"
      ]
    },
    {
      "cell_type": "code",
      "metadata": {
        "id": "By7whgZoQU2a"
      },
      "source": [
        "from numpy import array\n",
        "from keras.preprocessing.text import one_hot\n",
        "from keras.preprocessing.sequence import pad_sequences\n",
        "from keras.models import Sequential\n",
        "from keras.layers import Dense\n",
        "from keras.layers import Flatten\n",
        "from keras.layers.embeddings import Embedding\n",
        "# define documents\n",
        "Sent = ['Hello, how are you',\n",
        "        'how are you',\n",
        "        'how are you doing',\n",
        "        'I am doing great',\n",
        "        'I am doing good',\n",
        "        'I am good']"
      ],
      "execution_count": 11,
      "outputs": []
    },
    {
      "cell_type": "code",
      "metadata": {
        "id": "6d9SeNwmQy-F"
      },
      "source": [
        "# defining class labels\n",
        "sent_labels = array([1,1,1,0,0,0])"
      ],
      "execution_count": 12,
      "outputs": []
    },
    {
      "cell_type": "code",
      "metadata": {
        "colab": {
          "base_uri": "https://localhost:8080/"
        },
        "id": "rq0ahHRyRSwS",
        "outputId": "b1eba5e6-0813-4010-8e4b-99e607ca821a"
      },
      "source": [
        "# integer encoding of the documents\n",
        "my_vocab_size = 30\n",
        "encoded_sent = [one_hot(i, my_vocab_size) for i in Sent]\n",
        "print(encoded_sent)"
      ],
      "execution_count": 13,
      "outputs": [
        {
          "output_type": "stream",
          "text": [
            "[[15, 13, 14, 24], [13, 14, 24], [13, 14, 24, 7], [1, 23, 7, 18], [1, 23, 7, 24], [1, 23, 24]]\n"
          ],
          "name": "stdout"
        }
      ]
    },
    {
      "cell_type": "code",
      "metadata": {
        "colab": {
          "base_uri": "https://localhost:8080/"
        },
        "id": "65uM2TByRV6d",
        "outputId": "01c6e077-1b79-4d38-d56f-706d3e544ee4"
      },
      "source": [
        "# padding documents to a max length =5 \n",
        "length = 5\n",
        "padded_sent = pad_sequences(encoded_sent, maxlen=length, padding='pre')\n",
        "print(padded_sent)"
      ],
      "execution_count": 14,
      "outputs": [
        {
          "output_type": "stream",
          "text": [
            "[[ 0 15 13 14 24]\n",
            " [ 0  0 13 14 24]\n",
            " [ 0 13 14 24  7]\n",
            " [ 0  1 23  7 18]\n",
            " [ 0  1 23  7 24]\n",
            " [ 0  0  1 23 24]]\n"
          ],
          "name": "stdout"
        }
      ]
    },
    {
      "cell_type": "code",
      "metadata": {
        "id": "ss7qe6ESRX-e"
      },
      "source": [
        "# defining the model\n",
        "mymodel = Sequential()\n",
        "mymodel.add(Embedding(my_vocab_size, 8, input_length=length))\n",
        "mymodel.add(Flatten())\n",
        "mymodel.add(Dense(1, activation='sigmoid'))\n"
      ],
      "execution_count": 16,
      "outputs": []
    },
    {
      "cell_type": "code",
      "metadata": {
        "id": "x6Trf4DjOLcO"
      },
      "source": [
        "# compiling the model\n",
        "mymodel.compile(optimizer='adam', loss='binary_crossentropy', metrics=['accuracy'])"
      ],
      "execution_count": 17,
      "outputs": []
    },
    {
      "cell_type": "code",
      "metadata": {
        "id": "X4-DBjiyOLcO",
        "colab": {
          "base_uri": "https://localhost:8080/"
        },
        "outputId": "1aa4224d-1543-45e2-d130-01bbc5702ebe"
      },
      "source": [
        "# fiting  the model\n",
        "mymodel.fit(padded_sent, sent_labels, epochs=30)\n",
        "\n",
        "# evaluate the model\n",
        "modelloss, modelaccuracy = mymodel.evaluate(padded_sent, sent_labels, verbose=0)\n",
        "print('Accuracy: %f' % (modelaccuracy*100))"
      ],
      "execution_count": 21,
      "outputs": [
        {
          "output_type": "stream",
          "text": [
            "Epoch 1/30\n",
            "1/1 [==============================] - 0s 5ms/step - loss: 0.6208 - accuracy: 1.0000\n",
            "Epoch 2/30\n",
            "1/1 [==============================] - 0s 4ms/step - loss: 0.6188 - accuracy: 1.0000\n",
            "Epoch 3/30\n",
            "1/1 [==============================] - 0s 3ms/step - loss: 0.6168 - accuracy: 1.0000\n",
            "Epoch 4/30\n",
            "1/1 [==============================] - 0s 7ms/step - loss: 0.6148 - accuracy: 1.0000\n",
            "Epoch 5/30\n",
            "1/1 [==============================] - 0s 6ms/step - loss: 0.6128 - accuracy: 1.0000\n",
            "Epoch 6/30\n",
            "1/1 [==============================] - 0s 5ms/step - loss: 0.6107 - accuracy: 1.0000\n",
            "Epoch 7/30\n",
            "1/1 [==============================] - 0s 6ms/step - loss: 0.6086 - accuracy: 1.0000\n",
            "Epoch 8/30\n",
            "1/1 [==============================] - 0s 5ms/step - loss: 0.6066 - accuracy: 1.0000\n",
            "Epoch 9/30\n",
            "1/1 [==============================] - 0s 3ms/step - loss: 0.6045 - accuracy: 1.0000\n",
            "Epoch 10/30\n",
            "1/1 [==============================] - 0s 5ms/step - loss: 0.6024 - accuracy: 1.0000\n",
            "Epoch 11/30\n",
            "1/1 [==============================] - 0s 5ms/step - loss: 0.6002 - accuracy: 1.0000\n",
            "Epoch 12/30\n",
            "1/1 [==============================] - 0s 3ms/step - loss: 0.5981 - accuracy: 1.0000\n",
            "Epoch 13/30\n",
            "1/1 [==============================] - 0s 3ms/step - loss: 0.5959 - accuracy: 1.0000\n",
            "Epoch 14/30\n",
            "1/1 [==============================] - 0s 5ms/step - loss: 0.5937 - accuracy: 1.0000\n",
            "Epoch 15/30\n",
            "1/1 [==============================] - 0s 3ms/step - loss: 0.5915 - accuracy: 1.0000\n",
            "Epoch 16/30\n",
            "1/1 [==============================] - 0s 3ms/step - loss: 0.5893 - accuracy: 1.0000\n",
            "Epoch 17/30\n",
            "1/1 [==============================] - 0s 3ms/step - loss: 0.5871 - accuracy: 1.0000\n",
            "Epoch 18/30\n",
            "1/1 [==============================] - 0s 4ms/step - loss: 0.5848 - accuracy: 1.0000\n",
            "Epoch 19/30\n",
            "1/1 [==============================] - 0s 5ms/step - loss: 0.5826 - accuracy: 1.0000\n",
            "Epoch 20/30\n",
            "1/1 [==============================] - 0s 4ms/step - loss: 0.5803 - accuracy: 1.0000\n",
            "Epoch 21/30\n",
            "1/1 [==============================] - 0s 4ms/step - loss: 0.5780 - accuracy: 1.0000\n",
            "Epoch 22/30\n",
            "1/1 [==============================] - 0s 5ms/step - loss: 0.5757 - accuracy: 1.0000\n",
            "Epoch 23/30\n",
            "1/1 [==============================] - 0s 3ms/step - loss: 0.5734 - accuracy: 1.0000\n",
            "Epoch 24/30\n",
            "1/1 [==============================] - 0s 6ms/step - loss: 0.5710 - accuracy: 1.0000\n",
            "Epoch 25/30\n",
            "1/1 [==============================] - 0s 4ms/step - loss: 0.5686 - accuracy: 1.0000\n",
            "Epoch 26/30\n",
            "1/1 [==============================] - 0s 4ms/step - loss: 0.5663 - accuracy: 1.0000\n",
            "Epoch 27/30\n",
            "1/1 [==============================] - 0s 6ms/step - loss: 0.5639 - accuracy: 1.0000\n",
            "Epoch 28/30\n",
            "1/1 [==============================] - 0s 5ms/step - loss: 0.5615 - accuracy: 1.0000\n",
            "Epoch 29/30\n",
            "1/1 [==============================] - 0s 7ms/step - loss: 0.5590 - accuracy: 1.0000\n",
            "Epoch 30/30\n",
            "1/1 [==============================] - 0s 6ms/step - loss: 0.5566 - accuracy: 1.0000\n",
            "Accuracy: 100.000000\n"
          ],
          "name": "stdout"
        }
      ]
    },
    {
      "cell_type": "code",
      "metadata": {
        "id": "45AQPNcHOLcP"
      },
      "source": [
        "mysent_to_predict = ['how are you Suman',\n",
        "        'I am good']"
      ],
      "execution_count": 22,
      "outputs": []
    },
    {
      "cell_type": "code",
      "metadata": {
        "id": "t2N1LaOAOLcQ",
        "colab": {
          "base_uri": "https://localhost:8080/"
        },
        "outputId": "e1d639ef-7698-423b-ec93-79f69be03c5b"
      },
      "source": [
        "# integer encode the documents\n",
        "vocab_size = 30\n",
        "encoded = [one_hot(d, vocab_size) for d in mysent_to_predict]\n",
        "print(encoded)\n"
      ],
      "execution_count": 23,
      "outputs": [
        {
          "output_type": "stream",
          "text": [
            "[[13, 14, 24, 13], [1, 23, 24]]\n"
          ],
          "name": "stdout"
        }
      ]
    },
    {
      "cell_type": "code",
      "metadata": {
        "id": "_jIUIeXtOLcQ",
        "colab": {
          "base_uri": "https://localhost:8080/"
        },
        "outputId": "aea6f597-98e2-4bad-f1d3-2250d1e71bdb"
      },
      "source": [
        "# pad documents to a max length of 5 words\n",
        "max_length = 5\n",
        "mypadded = pad_sequences(encoded, maxlen=max_length, padding='pre')\n",
        "print(mypadded)"
      ],
      "execution_count": 24,
      "outputs": [
        {
          "output_type": "stream",
          "text": [
            "[[ 0 13 14 24 13]\n",
            " [ 0  0  1 23 24]]\n"
          ],
          "name": "stdout"
        }
      ]
    },
    {
      "cell_type": "code",
      "metadata": {
        "id": "r-5fe4pSOLcQ",
        "colab": {
          "base_uri": "https://localhost:8080/"
        },
        "outputId": "de1fd229-fa7f-45bd-b1f6-c0faec910dbe"
      },
      "source": [
        "mymodel.predict_classes(mypadded)"
      ],
      "execution_count": 25,
      "outputs": [
        {
          "output_type": "execute_result",
          "data": {
            "text/plain": [
              "array([[1],\n",
              "       [0]], dtype=int32)"
            ]
          },
          "metadata": {
            "tags": []
          },
          "execution_count": 25
        }
      ]
    },
    {
      "cell_type": "code",
      "metadata": {
        "id": "nndlphioS87x"
      },
      "source": [
        ""
      ],
      "execution_count": null,
      "outputs": []
    }
  ]
}